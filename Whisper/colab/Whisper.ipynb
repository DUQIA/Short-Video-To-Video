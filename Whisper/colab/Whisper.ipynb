{
  "nbformat": 4,
  "nbformat_minor": 0,
  "metadata": {
    "colab": {
      "provenance": []
    },
    "kernelspec": {
      "name": "python3",
      "display_name": "Python 3"
    },
    "language_info": {
      "name": "python"
    }
  },
  "cells": [
    {
      "cell_type": "markdown",
      "source": [
        "# Install dependencies"
      ],
      "metadata": {
        "id": "huLzipvP2ljY"
      }
    },
    {
      "cell_type": "code",
      "execution_count": null,
      "metadata": {
        "id": "vQgcW0v92FSx"
      },
      "outputs": [],
      "source": [
        "torch\n",
        "optimum\n",
        "datasets[audio]\n",
        "accelerate\n",
        "torchaudio\n",
        "transformers"
      ]
    },
    {
      "cell_type": "markdown",
      "source": [
        "# import"
      ],
      "metadata": {
        "id": "1oq3p4zZ2pBX"
      }
    },
    {
      "cell_type": "code",
      "source": [
        "import torch\n",
        "import numpy as np\n",
        "import gradio as gr\n",
        "from datasets import load_dataset\n",
        "from transformers import AutoModelForSpeechSeq2Seq, AutoProcessor, pipeline"
      ],
      "metadata": {
        "id": "4dSQel662r1U"
      },
      "execution_count": null,
      "outputs": []
    },
    {
      "cell_type": "markdown",
      "source": [
        "# gradio.run"
      ],
      "metadata": {
        "id": "0I5uADIK2vu7"
      }
    },
    {
      "cell_type": "code",
      "source": [
        "device = \"cuda:0\" if torch.cuda.is_available() else \"cpu\"\n",
        "torch_dtype = torch.float16 if torch.cuda.is_available() else torch.float32\n",
        "\n",
        "model_id = \"openai/whisper-large-v3\"\n",
        "\n",
        "model = AutoModelForSpeechSeq2Seq.from_pretrained(\n",
        "    model_id, torch_dtype=torch_dtype, low_cpu_mem_usage=True, use_safetensors=True\n",
        ")\n",
        "model = model.to_bettertransformer()\n",
        "model.to(device)\n",
        "\n",
        "processor = AutoProcessor.from_pretrained(model_id)\n",
        "\n",
        "pipe = pipeline(\n",
        "    \"automatic-speech-recognition\",\n",
        "    model=model,\n",
        "    tokenizer=processor.tokenizer,\n",
        "    feature_extractor=processor.feature_extractor,\n",
        "    max_new_tokens=128,\n",
        "    chunk_length_s=30,\n",
        "    batch_size=16,\n",
        "    return_timestamps=True,\n",
        "    torch_dtype=torch_dtype,\n",
        "    device=device,\n",
        ")\n",
        "\n",
        "dataset = load_dataset(\"distil-whisper/librispeech_long\", \"clean\", split=\"validation\")\n",
        "sample = dataset[0][\"audio\"]\n",
        "\n",
        "result = pipe(sample)\n",
        "print(result[\"text\"])\n",
        "\n",
        "def input(audio):\n",
        "    if audio is None:\n",
        "        raise gr.Error(\"No audio file submitted!\")\n",
        "\n",
        "    sr, y = audio\n",
        "    y = y.astype(np.float32)\n",
        "    y /= np.max(np.abs(y))\n",
        "    duration = len(y) / sr\n",
        "\n",
        "    if duration > 20:\n",
        "        raise gr.Error(\"Exceed maximum limit!\")\n",
        "    elif y.ndim != 1:\n",
        "        raise gr.Error(\"Please use mono!\")\n",
        "\n",
        "    text = pipe({\"sampling_rate\": sr, \"raw\": y}, generate_kwargs={\"task\": \"transcribe\"}, return_timestamps=True)\n",
        "    return text[\"chunks\"]\n",
        "\n",
        "with gr.Blocks() as demo:\n",
        "    gr.Interface(\n",
        "                fn=input,\n",
        "                inputs=\"audio\",\n",
        "                outputs=\"text\",\n",
        "                title=\"Whisper Large V3: Short Audio Timestamp Transcribe\",\n",
        "                description=\"🤗 [whisper-large-v3](https://huggingface.co/spaces/hf-audio/whisper-large-v3), Limited the audio length to 20 seconds.\"\n",
        "            )\n",
        "\n",
        "demo.launch()"
      ],
      "metadata": {
        "id": "p8Gl-Vu72emk"
      },
      "execution_count": null,
      "outputs": []
    }
  ]
}